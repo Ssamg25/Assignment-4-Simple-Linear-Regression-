{
 "cells": [
  {
   "cell_type": "markdown",
   "id": "e3cfd053",
   "metadata": {},
   "source": [
    "##### Name - Shunottara Alhat\n",
    "\n",
    "# Build a simple linear regression model by performing EDA and do necessary transformations and select the best model using R or Python.\n",
    "------------------------------------------------------------\n",
    "## 1) Delivery_time -> Predict delivery time using sorting time "
   ]
  },
  {
   "cell_type": "markdown",
   "id": "bfad6fac",
   "metadata": {},
   "source": [
    "### Import the Dataset"
   ]
  },
  {
   "cell_type": "code",
   "execution_count": 307,
   "id": "f5501b25",
   "metadata": {},
   "outputs": [],
   "source": [
    "import pandas as pd\n",
    "import numpy as np\n",
    "import matplotlib.pyplot as plt\n",
    "import seaborn as sns\n",
    "import statsmodels.formula.api as smf\n",
    "from sklearn.linear_model import LinearRegression\n",
    "import pylab\n",
    "import scipy.stats as st"
   ]
  },
  {
   "cell_type": "code",
   "execution_count": 308,
   "id": "53a90474",
   "metadata": {},
   "outputs": [
    {
     "data": {
      "text/html": [
       "<div>\n",
       "<style scoped>\n",
       "    .dataframe tbody tr th:only-of-type {\n",
       "        vertical-align: middle;\n",
       "    }\n",
       "\n",
       "    .dataframe tbody tr th {\n",
       "        vertical-align: top;\n",
       "    }\n",
       "\n",
       "    .dataframe thead th {\n",
       "        text-align: right;\n",
       "    }\n",
       "</style>\n",
       "<table border=\"1\" class=\"dataframe\">\n",
       "  <thead>\n",
       "    <tr style=\"text-align: right;\">\n",
       "      <th></th>\n",
       "      <th>Delivery Time</th>\n",
       "      <th>Sorting Time</th>\n",
       "    </tr>\n",
       "  </thead>\n",
       "  <tbody>\n",
       "    <tr>\n",
       "      <th>0</th>\n",
       "      <td>21.00</td>\n",
       "      <td>10</td>\n",
       "    </tr>\n",
       "    <tr>\n",
       "      <th>1</th>\n",
       "      <td>13.50</td>\n",
       "      <td>4</td>\n",
       "    </tr>\n",
       "    <tr>\n",
       "      <th>2</th>\n",
       "      <td>19.75</td>\n",
       "      <td>6</td>\n",
       "    </tr>\n",
       "    <tr>\n",
       "      <th>3</th>\n",
       "      <td>24.00</td>\n",
       "      <td>9</td>\n",
       "    </tr>\n",
       "    <tr>\n",
       "      <th>4</th>\n",
       "      <td>29.00</td>\n",
       "      <td>10</td>\n",
       "    </tr>\n",
       "    <tr>\n",
       "      <th>5</th>\n",
       "      <td>15.35</td>\n",
       "      <td>6</td>\n",
       "    </tr>\n",
       "    <tr>\n",
       "      <th>6</th>\n",
       "      <td>19.00</td>\n",
       "      <td>7</td>\n",
       "    </tr>\n",
       "    <tr>\n",
       "      <th>7</th>\n",
       "      <td>9.50</td>\n",
       "      <td>3</td>\n",
       "    </tr>\n",
       "    <tr>\n",
       "      <th>8</th>\n",
       "      <td>17.90</td>\n",
       "      <td>10</td>\n",
       "    </tr>\n",
       "    <tr>\n",
       "      <th>9</th>\n",
       "      <td>18.75</td>\n",
       "      <td>9</td>\n",
       "    </tr>\n",
       "    <tr>\n",
       "      <th>10</th>\n",
       "      <td>19.83</td>\n",
       "      <td>8</td>\n",
       "    </tr>\n",
       "    <tr>\n",
       "      <th>11</th>\n",
       "      <td>10.75</td>\n",
       "      <td>4</td>\n",
       "    </tr>\n",
       "    <tr>\n",
       "      <th>12</th>\n",
       "      <td>16.68</td>\n",
       "      <td>7</td>\n",
       "    </tr>\n",
       "    <tr>\n",
       "      <th>13</th>\n",
       "      <td>11.50</td>\n",
       "      <td>3</td>\n",
       "    </tr>\n",
       "    <tr>\n",
       "      <th>14</th>\n",
       "      <td>12.03</td>\n",
       "      <td>3</td>\n",
       "    </tr>\n",
       "    <tr>\n",
       "      <th>15</th>\n",
       "      <td>14.88</td>\n",
       "      <td>4</td>\n",
       "    </tr>\n",
       "    <tr>\n",
       "      <th>16</th>\n",
       "      <td>13.75</td>\n",
       "      <td>6</td>\n",
       "    </tr>\n",
       "    <tr>\n",
       "      <th>17</th>\n",
       "      <td>18.11</td>\n",
       "      <td>7</td>\n",
       "    </tr>\n",
       "    <tr>\n",
       "      <th>18</th>\n",
       "      <td>8.00</td>\n",
       "      <td>2</td>\n",
       "    </tr>\n",
       "    <tr>\n",
       "      <th>19</th>\n",
       "      <td>17.83</td>\n",
       "      <td>7</td>\n",
       "    </tr>\n",
       "    <tr>\n",
       "      <th>20</th>\n",
       "      <td>21.50</td>\n",
       "      <td>5</td>\n",
       "    </tr>\n",
       "  </tbody>\n",
       "</table>\n",
       "</div>"
      ],
      "text/plain": [
       "    Delivery Time  Sorting Time\n",
       "0           21.00            10\n",
       "1           13.50             4\n",
       "2           19.75             6\n",
       "3           24.00             9\n",
       "4           29.00            10\n",
       "5           15.35             6\n",
       "6           19.00             7\n",
       "7            9.50             3\n",
       "8           17.90            10\n",
       "9           18.75             9\n",
       "10          19.83             8\n",
       "11          10.75             4\n",
       "12          16.68             7\n",
       "13          11.50             3\n",
       "14          12.03             3\n",
       "15          14.88             4\n",
       "16          13.75             6\n",
       "17          18.11             7\n",
       "18           8.00             2\n",
       "19          17.83             7\n",
       "20          21.50             5"
      ]
     },
     "execution_count": 308,
     "metadata": {},
     "output_type": "execute_result"
    }
   ],
   "source": [
    "# Read the Data\n",
    "\n",
    "DeliveryTime = pd.read_csv(\"D:\\Excelr DataScience\\DS Assignment\\Assignment 4 Simple Linear Regression\\delivery_time.csv\")\n",
    "DeliveryTime"
   ]
  },
  {
   "cell_type": "code",
   "execution_count": 309,
   "id": "05133404",
   "metadata": {},
   "outputs": [
    {
     "name": "stdout",
     "output_type": "stream",
     "text": [
      "<class 'pandas.core.frame.DataFrame'>\n",
      "RangeIndex: 21 entries, 0 to 20\n",
      "Data columns (total 2 columns):\n",
      " #   Column         Non-Null Count  Dtype  \n",
      "---  ------         --------------  -----  \n",
      " 0   Delivery Time  21 non-null     float64\n",
      " 1   Sorting Time   21 non-null     int64  \n",
      "dtypes: float64(1), int64(1)\n",
      "memory usage: 464.0 bytes\n"
     ]
    }
   ],
   "source": [
    "# EDA , Visualization and Features Engineering\n",
    "\n",
    "DeliveryTime.columns\n",
    "DeliveryTime.info()"
   ]
  },
  {
   "cell_type": "code",
   "execution_count": 310,
   "id": "40e657b6",
   "metadata": {},
   "outputs": [
    {
     "data": {
      "text/html": [
       "<div>\n",
       "<style scoped>\n",
       "    .dataframe tbody tr th:only-of-type {\n",
       "        vertical-align: middle;\n",
       "    }\n",
       "\n",
       "    .dataframe tbody tr th {\n",
       "        vertical-align: top;\n",
       "    }\n",
       "\n",
       "    .dataframe thead th {\n",
       "        text-align: right;\n",
       "    }\n",
       "</style>\n",
       "<table border=\"1\" class=\"dataframe\">\n",
       "  <thead>\n",
       "    <tr style=\"text-align: right;\">\n",
       "      <th></th>\n",
       "      <th>deliverytime</th>\n",
       "      <th>sortingtime</th>\n",
       "    </tr>\n",
       "  </thead>\n",
       "  <tbody>\n",
       "    <tr>\n",
       "      <th>0</th>\n",
       "      <td>21.00</td>\n",
       "      <td>10</td>\n",
       "    </tr>\n",
       "    <tr>\n",
       "      <th>1</th>\n",
       "      <td>13.50</td>\n",
       "      <td>4</td>\n",
       "    </tr>\n",
       "    <tr>\n",
       "      <th>2</th>\n",
       "      <td>19.75</td>\n",
       "      <td>6</td>\n",
       "    </tr>\n",
       "    <tr>\n",
       "      <th>3</th>\n",
       "      <td>24.00</td>\n",
       "      <td>9</td>\n",
       "    </tr>\n",
       "    <tr>\n",
       "      <th>4</th>\n",
       "      <td>29.00</td>\n",
       "      <td>10</td>\n",
       "    </tr>\n",
       "    <tr>\n",
       "      <th>5</th>\n",
       "      <td>15.35</td>\n",
       "      <td>6</td>\n",
       "    </tr>\n",
       "    <tr>\n",
       "      <th>6</th>\n",
       "      <td>19.00</td>\n",
       "      <td>7</td>\n",
       "    </tr>\n",
       "    <tr>\n",
       "      <th>7</th>\n",
       "      <td>9.50</td>\n",
       "      <td>3</td>\n",
       "    </tr>\n",
       "    <tr>\n",
       "      <th>8</th>\n",
       "      <td>17.90</td>\n",
       "      <td>10</td>\n",
       "    </tr>\n",
       "    <tr>\n",
       "      <th>9</th>\n",
       "      <td>18.75</td>\n",
       "      <td>9</td>\n",
       "    </tr>\n",
       "    <tr>\n",
       "      <th>10</th>\n",
       "      <td>19.83</td>\n",
       "      <td>8</td>\n",
       "    </tr>\n",
       "    <tr>\n",
       "      <th>11</th>\n",
       "      <td>10.75</td>\n",
       "      <td>4</td>\n",
       "    </tr>\n",
       "    <tr>\n",
       "      <th>12</th>\n",
       "      <td>16.68</td>\n",
       "      <td>7</td>\n",
       "    </tr>\n",
       "    <tr>\n",
       "      <th>13</th>\n",
       "      <td>11.50</td>\n",
       "      <td>3</td>\n",
       "    </tr>\n",
       "    <tr>\n",
       "      <th>14</th>\n",
       "      <td>12.03</td>\n",
       "      <td>3</td>\n",
       "    </tr>\n",
       "    <tr>\n",
       "      <th>15</th>\n",
       "      <td>14.88</td>\n",
       "      <td>4</td>\n",
       "    </tr>\n",
       "    <tr>\n",
       "      <th>16</th>\n",
       "      <td>13.75</td>\n",
       "      <td>6</td>\n",
       "    </tr>\n",
       "    <tr>\n",
       "      <th>17</th>\n",
       "      <td>18.11</td>\n",
       "      <td>7</td>\n",
       "    </tr>\n",
       "    <tr>\n",
       "      <th>18</th>\n",
       "      <td>8.00</td>\n",
       "      <td>2</td>\n",
       "    </tr>\n",
       "    <tr>\n",
       "      <th>19</th>\n",
       "      <td>17.83</td>\n",
       "      <td>7</td>\n",
       "    </tr>\n",
       "    <tr>\n",
       "      <th>20</th>\n",
       "      <td>21.50</td>\n",
       "      <td>5</td>\n",
       "    </tr>\n",
       "  </tbody>\n",
       "</table>\n",
       "</div>"
      ],
      "text/plain": [
       "    deliverytime  sortingtime\n",
       "0          21.00           10\n",
       "1          13.50            4\n",
       "2          19.75            6\n",
       "3          24.00            9\n",
       "4          29.00           10\n",
       "5          15.35            6\n",
       "6          19.00            7\n",
       "7           9.50            3\n",
       "8          17.90           10\n",
       "9          18.75            9\n",
       "10         19.83            8\n",
       "11         10.75            4\n",
       "12         16.68            7\n",
       "13         11.50            3\n",
       "14         12.03            3\n",
       "15         14.88            4\n",
       "16         13.75            6\n",
       "17         18.11            7\n",
       "18          8.00            2\n",
       "19         17.83            7\n",
       "20         21.50            5"
      ]
     },
     "execution_count": 310,
     "metadata": {},
     "output_type": "execute_result"
    }
   ],
   "source": [
    "# Rename Columns\n",
    "DeliveryTime = DeliveryTime.rename({'Delivery Time':'deliverytime','Sorting Time':'sortingtime'},axis=1)\n",
    "DeliveryTime"
   ]
  },
  {
   "cell_type": "code",
   "execution_count": 311,
   "id": "f5892ad1",
   "metadata": {},
   "outputs": [
    {
     "data": {
      "text/plain": [
       "(array([1., 3., 3., 1., 0., 3., 4., 1., 2., 3.]),\n",
       " array([ 2. ,  2.8,  3.6,  4.4,  5.2,  6. ,  6.8,  7.6,  8.4,  9.2, 10. ]),\n",
       " <BarContainer object of 10 artists>)"
      ]
     },
     "execution_count": 311,
     "metadata": {},
     "output_type": "execute_result"
    },
    {
     "data": {
      "image/png": "[encoded data removed]",
      "text/plain": [
       "<Figure size 432x288 with 1 Axes>"
      ]
     },
     "metadata": {
      "needs_background": "light"
     },
     "output_type": "display_data"
    }
   ],
   "source": [
    "plt.hist(DeliveryTime.deliverytime)\n",
    "plt.hist(DeliveryTime.sortingtime)"
   ]
  },
  {
   "cell_type": "code",
   "execution_count": 312,
   "id": "ecbf3141",
   "metadata": {},
   "outputs": [
    {
     "data": {
      "text/plain": [
       "{'whiskers': [<matplotlib.lines.Line2D at 0x236fc89fd30>,\n",
       "  <matplotlib.lines.Line2D at 0x236fc8b2550>],\n",
       " 'caps': [<matplotlib.lines.Line2D at 0x236fc8b2490>,\n",
       "  <matplotlib.lines.Line2D at 0x236fc8b2040>],\n",
       " 'boxes': [<matplotlib.lines.Line2D at 0x236fc89f790>],\n",
       " 'medians': [<matplotlib.lines.Line2D at 0x236fc8b2790>],\n",
       " 'fliers': [<matplotlib.lines.Line2D at 0x236fc8bc1f0>],\n",
       " 'means': []}"
      ]
     },
     "execution_count": 312,
     "metadata": {},
     "output_type": "execute_result"
    },
    {
     "data": {
      "image/png": "[encoded data removed]",
      "text/plain": [
       "<Figure size 432x288 with 1 Axes>"
      ]
     },
     "metadata": {
      "needs_background": "light"
     },
     "output_type": "display_data"
    }
   ],
   "source": [
    "\n",
    "plt.boxplot(DeliveryTime.deliverytime,0,\"rs\",1)\n",
    "plt.boxplot(DeliveryTime.sortingtime)"
   ]
  },
  {
   "cell_type": "code",
   "execution_count": 313,
   "id": "e85d7045",
   "metadata": {},
   "outputs": [
    {
     "data": {
      "text/plain": [
       "Text(0, 0.5, 'Sorting Time')"
      ]
     },
     "execution_count": 313,
     "metadata": {},
     "output_type": "execute_result"
    },
    {
     "data": {
      "image/png": "[encoded data removed]",
      "text/plain": [
       "<Figure size 432x288 with 1 Axes>"
      ]
     },
     "metadata": {
      "needs_background": "light"
     },
     "output_type": "display_data"
    }
   ],
   "source": [
    "plt.plot(DeliveryTime.deliverytime,DeliveryTime.sortingtime,\"bo\");\n",
    "plt.xlabel(\"Delivery Time\");plt.ylabel(\"Sorting Time\")\n"
   ]
  },
  {
   "cell_type": "code",
   "execution_count": 314,
   "id": "4e485397",
   "metadata": {},
   "outputs": [
    {
     "data": {
      "text/plain": [
       "array([[1.        , 0.82599726],\n",
       "       [0.82599726, 1.        ]])"
      ]
     },
     "execution_count": 314,
     "metadata": {},
     "output_type": "execute_result"
    }
   ],
   "source": [
    "DeliveryTime.sortingtime.corr(DeliveryTime.deliverytime) # # correlation value between X and Y\n",
    "np.corrcoef(DeliveryTime.sortingtime,DeliveryTime.deliverytime)"
   ]
  },
  {
   "cell_type": "code",
   "execution_count": 315,
   "id": "80ad3861",
   "metadata": {},
   "outputs": [],
   "source": [
    "# For preparing linear regression model we need to import the statsmodels.formula.api\n",
    "# MODEL BUILDING\n",
    "\n",
    "model=smf.ols(\"sortingtime ~ deliverytime\",data=DeliveryTime).fit()"
   ]
  },
  {
   "cell_type": "code",
   "execution_count": 316,
   "id": "f4a0b4f0",
   "metadata": {},
   "outputs": [
    {
     "data": {
      "text/plain": [
       "Intercept      -0.756673\n",
       "deliverytime    0.413744\n",
       "dtype: float64"
      ]
     },
     "execution_count": 316,
     "metadata": {},
     "output_type": "execute_result"
    }
   ],
   "source": [
    "# For getting coefficients of the varibles used in equation\n",
    "# MODEL TESTING\n",
    "\n",
    "model.params"
   ]
  },
  {
   "cell_type": "code",
   "execution_count": 317,
   "id": "945a1a38",
   "metadata": {},
   "outputs": [
    {
     "data": {
      "text/html": [
       "<div>\n",
       "<style scoped>\n",
       "    .dataframe tbody tr th:only-of-type {\n",
       "        vertical-align: middle;\n",
       "    }\n",
       "\n",
       "    .dataframe tbody tr th {\n",
       "        vertical-align: top;\n",
       "    }\n",
       "\n",
       "    .dataframe thead th {\n",
       "        text-align: right;\n",
       "    }\n",
       "</style>\n",
       "<table border=\"1\" class=\"dataframe\">\n",
       "  <thead>\n",
       "    <tr style=\"text-align: right;\">\n",
       "      <th></th>\n",
       "      <th>0</th>\n",
       "      <th>1</th>\n",
       "    </tr>\n",
       "  </thead>\n",
       "  <tbody>\n",
       "    <tr>\n",
       "      <th>Intercept</th>\n",
       "      <td>-3.130058</td>\n",
       "      <td>1.616712</td>\n",
       "    </tr>\n",
       "    <tr>\n",
       "      <th>deliverytime</th>\n",
       "      <td>0.278169</td>\n",
       "      <td>0.549318</td>\n",
       "    </tr>\n",
       "  </tbody>\n",
       "</table>\n",
       "</div>"
      ],
      "text/plain": [
       "                     0         1\n",
       "Intercept    -3.130058  1.616712\n",
       "deliverytime  0.278169  0.549318"
      ]
     },
     "execution_count": 317,
     "metadata": {},
     "output_type": "execute_result"
    }
   ],
   "source": [
    "# P-values for the variables and R-squared value for prepared model\n",
    "model.summary()\n",
    "\n",
    "model.conf_int(0.05) # 95% confidence interval"
   ]
  },
  {
   "cell_type": "code",
   "execution_count": 318,
   "id": "9fb17970",
   "metadata": {},
   "outputs": [],
   "source": [
    "pred = model.predict(DeliveryTime.iloc[:,0]) # Predicted values of Sorting Time using the model"
   ]
  },
  {
   "cell_type": "code",
   "execution_count": 319,
   "id": "e3fe6203",
   "metadata": {},
   "outputs": [
    {
     "data": {
      "text/plain": [
       "0.8259972607955327"
      ]
     },
     "execution_count": 319,
     "metadata": {},
     "output_type": "execute_result"
    },
    {
     "data": {
      "image/png": "[encoded data removed]",
      "text/plain": [
       "<Figure size 432x288 with 1 Axes>"
      ]
     },
     "metadata": {
      "needs_background": "light"
     },
     "output_type": "display_data"
    }
   ],
   "source": [
    "# Visualization of regresion line over the scatter plot of Delivery Time and Sorting Time\n",
    "# For visualization we need to import matplotlib.pyplot\n",
    "\n",
    "plt.scatter(x=DeliveryTime['deliverytime'],y=DeliveryTime['sortingtime'],color='red');\n",
    "plt.plot(DeliveryTime['deliverytime'],pred,color='black');\n",
    "plt.xlabel('Delivery Time');plt.ylabel('Sorting Time')\n",
    "\n",
    "pred.corr(DeliveryTime.sortingtime) # "
   ]
  },
  {
   "cell_type": "code",
   "execution_count": 320,
   "id": "0805bc35",
   "metadata": {},
   "outputs": [
    {
     "name": "stdout",
     "output_type": "stream",
     "text": [
      "                              0         1\n",
      "Intercept            -20.369797 -4.628668\n",
      "np.log(deliverytime)   3.916690  9.554407\n"
     ]
    },
    {
     "data": {
      "text/plain": [
       "Text(0, 0.5, 'Sorting Time')"
      ]
     },
     "execution_count": 320,
     "metadata": {},
     "output_type": "execute_result"
    },
    {
     "data": {
      "image/png": "[encoded data removed]",
      "text/plain": [
       "<Figure size 432x288 with 1 Axes>"
      ]
     },
     "metadata": {
      "needs_background": "light"
     },
     "output_type": "display_data"
    }
   ],
   "source": [
    "# LOG\n",
    "# Transforming variables for accuracy\n",
    "model2 = smf.ols('sortingtime~np.log(deliverytime)',data=DeliveryTime).fit()\n",
    "model2.params\n",
    "model2.summary()\n",
    "print(model2.conf_int(0.01)) # 99% confidence level\n",
    "pred2 = model2.predict(pd.DataFrame(DeliveryTime['deliverytime']))\n",
    "pred2.corr(DeliveryTime.sortingtime)\n",
    "\n",
    "pred2\n",
    "plt.scatter(x=DeliveryTime['deliverytime'],y=DeliveryTime['sortingtime'],color='green');\n",
    "plt.plot(DeliveryTime['deliverytime'],pred2,color='blue');\n",
    "plt.xlabel('Delivery Time');plt.ylabel('Sorting Time')"
   ]
  },
  {
   "cell_type": "code",
   "execution_count": 321,
   "id": "efe34426",
   "metadata": {},
   "outputs": [
    {
     "name": "stdout",
     "output_type": "stream",
     "text": [
      "                     0         1\n",
      "Intercept    -0.147491  1.021964\n",
      "deliverytime  0.043499  0.110302\n"
     ]
    },
    {
     "data": {
      "image/png": "[encoded data removed]",
      "text/plain": [
       "<Figure size 432x288 with 1 Axes>"
      ]
     },
     "metadata": {
      "needs_background": "light"
     },
     "output_type": "display_data"
    }
   ],
   "source": [
    "# LOG\n",
    "# Exponential transformation\n",
    "model3 = smf.ols('np.log(sortingtime)~deliverytime',data=DeliveryTime).fit()\n",
    "model3.params\n",
    "model3.summary()\n",
    "print(model3.conf_int(0.01)) # 99% confidence level\n",
    "pred_log = model3.predict(pd.DataFrame(DeliveryTime['deliverytime']))\n",
    "pred_log\n",
    "pred3=np.exp(pred_log)  # as we have used log(Sorting Time) in preparing model so we need to convert it back\n",
    "pred3\n",
    "pred3.corr(DeliveryTime.sortingtime)\n",
    "plt.scatter(x=DeliveryTime['deliverytime'],y=DeliveryTime['sortingtime'],color='green');\n",
    "plt.plot(DeliveryTime.deliverytime,np.exp(pred_log),color='blue');\n",
    "plt.xlabel('Delivery Time');plt.ylabel('Sorting Time')\n",
    "resid_3 = pred3-DeliveryTime.sortingtime"
   ]
  },
  {
   "cell_type": "code",
   "execution_count": 322,
   "id": "6f6ef3c6",
   "metadata": {},
   "outputs": [
    {
     "data": {
      "text/plain": [
       "array([ 0.94514898, -0.33626175, -0.61992804, -0.32314918, -1.3766316 ,\n",
       "        0.65705128,  0.17950335, -0.26108323,  1.84483896,  1.20051932,\n",
       "        0.44256592,  0.46185032,  0.85281972, -0.84152838, -0.99534634,\n",
       "       -0.7367689 ,  1.12140739,  0.43780144, -1.35597416,  0.51906376,\n",
       "       -1.81589886])"
      ]
     },
     "execution_count": 322,
     "metadata": {},
     "output_type": "execute_result"
    }
   ],
   "source": [
    "# getting residuals of the entire data set\n",
    "resid = model3.resid_pearson \n",
    "resid"
   ]
  },
  {
   "cell_type": "code",
   "execution_count": 323,
   "id": "c7dc94dd",
   "metadata": {},
   "outputs": [
    {
     "data": {
      "text/plain": [
       "Text(0, 0.5, 'Actual')"
      ]
     },
     "execution_count": 323,
     "metadata": {},
     "output_type": "execute_result"
    },
    {
     "data": {
      "image/png": "[encoded data removed]",
      "text/plain": [
       "<Figure size 432x288 with 1 Axes>"
      ]
     },
     "metadata": {
      "needs_background": "light"
     },
     "output_type": "display_data"
    }
   ],
   "source": [
    "\n",
    "plt.plot(model3.resid_pearson,'o');\n",
    "plt.axhline(y=0,color='green');\n",
    "plt.xlabel(\"Observation Number\");plt.ylabel(\"Standardized Residual\")\n",
    "\n",
    "# Predicted vs actual values\n",
    "plt.scatter(x=pred3,y=DeliveryTime.sortingtime);\n",
    "plt.xlabel(\"Predicted\");plt.ylabel(\"Actual\")"
   ]
  },
  {
   "cell_type": "code",
   "execution_count": 341,
   "id": "cefa871e",
   "metadata": {},
   "outputs": [
    {
     "data": {
      "text/html": [
       "<table class=\"simpletable\">\n",
       "<caption>OLS Regression Results</caption>\n",
       "<tr>\n",
       "  <th>Dep. Variable:</th>       <td>sortingtime</td>   <th>  R-squared:         </th> <td>   0.716</td>\n",
       "</tr>\n",
       "<tr>\n",
       "  <th>Model:</th>                   <td>OLS</td>       <th>  Adj. R-squared:    </th> <td>   0.685</td>\n",
       "</tr>\n",
       "<tr>\n",
       "  <th>Method:</th>             <td>Least Squares</td>  <th>  F-statistic:       </th> <td>   22.72</td>\n",
       "</tr>\n",
       "<tr>\n",
       "  <th>Date:</th>             <td>Thu, 24 Nov 2022</td> <th>  Prob (F-statistic):</th> <td>1.19e-05</td>\n",
       "</tr>\n",
       "<tr>\n",
       "  <th>Time:</th>                 <td>01:49:12</td>     <th>  Log-Likelihood:    </th> <td> -35.650</td>\n",
       "</tr>\n",
       "<tr>\n",
       "  <th>No. Observations:</th>      <td>    21</td>      <th>  AIC:               </th> <td>   77.30</td>\n",
       "</tr>\n",
       "<tr>\n",
       "  <th>Df Residuals:</th>          <td>    18</td>      <th>  BIC:               </th> <td>   80.43</td>\n",
       "</tr>\n",
       "<tr>\n",
       "  <th>Df Model:</th>              <td>     2</td>      <th>                     </th>     <td> </td>   \n",
       "</tr>\n",
       "<tr>\n",
       "  <th>Covariance Type:</th>      <td>nonrobust</td>    <th>                     </th>     <td> </td>   \n",
       "</tr>\n",
       "</table>\n",
       "<table class=\"simpletable\">\n",
       "<tr>\n",
       "         <td></td>            <th>coef</th>     <th>std err</th>      <th>t</th>      <th>P>|t|</th>  <th>[0.025</th>    <th>0.975]</th>  \n",
       "</tr>\n",
       "<tr>\n",
       "  <th>Intercept</th>       <td>   -4.6401</td> <td>    2.864</td> <td>   -1.620</td> <td> 0.123</td> <td>  -10.657</td> <td>    1.377</td>\n",
       "</tr>\n",
       "<tr>\n",
       "  <th>deliverytime</th>    <td>    0.8941</td> <td>    0.333</td> <td>    2.685</td> <td> 0.015</td> <td>    0.194</td> <td>    1.594</td>\n",
       "</tr>\n",
       "<tr>\n",
       "  <th>deliverytime_Sq</th> <td>   -0.0136</td> <td>    0.009</td> <td>   -1.469</td> <td> 0.159</td> <td>   -0.033</td> <td>    0.006</td>\n",
       "</tr>\n",
       "</table>\n",
       "<table class=\"simpletable\">\n",
       "<tr>\n",
       "  <th>Omnibus:</th>       <td> 1.829</td> <th>  Durbin-Watson:     </th> <td>   1.210</td>\n",
       "</tr>\n",
       "<tr>\n",
       "  <th>Prob(Omnibus):</th> <td> 0.401</td> <th>  Jarque-Bera (JB):  </th> <td>   0.513</td>\n",
       "</tr>\n",
       "<tr>\n",
       "  <th>Skew:</th>          <td>-0.156</td> <th>  Prob(JB):          </th> <td>   0.774</td>\n",
       "</tr>\n",
       "<tr>\n",
       "  <th>Kurtosis:</th>      <td> 3.699</td> <th>  Cond. No.          </th> <td>3.28e+03</td>\n",
       "</tr>\n",
       "</table><br/><br/>Notes:<br/>[1] Standard Errors assume that the covariance matrix of the errors is correctly specified.<br/>[2] The condition number is large, 3.28e+03. This might indicate that there are<br/>strong multicollinearity or other numerical problems."
      ],
      "text/plain": [
       "<class 'statsmodels.iolib.summary.Summary'>\n",
       "\"\"\"\n",
       "                            OLS Regression Results                            \n",
       "==============================================================================\n",
       "Dep. Variable:            sortingtime   R-squared:                       0.716\n",
       "Model:                            OLS   Adj. R-squared:                  0.685\n",
       "Method:                 Least Squares   F-statistic:                     22.72\n",
       "Date:                Thu, 24 Nov 2022   Prob (F-statistic):           1.19e-05\n",
       "Time:                        01:49:12   Log-Likelihood:                -35.650\n",
       "No. Observations:                  21   AIC:                             77.30\n",
       "Df Residuals:                      18   BIC:                             80.43\n",
       "Df Model:                           2                                         \n",
       "Covariance Type:            nonrobust                                         \n",
       "===================================================================================\n",
       "                      coef    std err          t      P>|t|      [0.025      0.975]\n",
       "-----------------------------------------------------------------------------------\n",
       "Intercept          -4.6401      2.864     -1.620      0.123     -10.657       1.377\n",
       "deliverytime        0.8941      0.333      2.685      0.015       0.194       1.594\n",
       "deliverytime_Sq    -0.0136      0.009     -1.469      0.159      -0.033       0.006\n",
       "==============================================================================\n",
       "Omnibus:                        1.829   Durbin-Watson:                   1.210\n",
       "Prob(Omnibus):                  0.401   Jarque-Bera (JB):                0.513\n",
       "Skew:                          -0.156   Prob(JB):                        0.774\n",
       "Kurtosis:                       3.699   Cond. No.                     3.28e+03\n",
       "==============================================================================\n",
       "\n",
       "Notes:\n",
       "[1] Standard Errors assume that the covariance matrix of the errors is correctly specified.\n",
       "[2] The condition number is large, 3.28e+03. This might indicate that there are\n",
       "strong multicollinearity or other numerical problems.\n",
       "\"\"\""
      ]
     },
     "execution_count": 341,
     "metadata": {},
     "output_type": "execute_result"
    }
   ],
   "source": [
    "# Quadratic model  (SQ)\n",
    "DeliveryTime[\"deliverytime_Sq\"] = DeliveryTime.deliverytime * DeliveryTime.deliverytime\n",
    "model_quad = smf.ols(\"sortingtime ~ deliverytime + deliverytime_Sq\",data=DeliveryTime).fit()\n",
    "model_quad.params\n",
    "model_quad.summary()\n"
   ]
  },
  {
   "cell_type": "code",
   "execution_count": 342,
   "id": "60e8ea0c",
   "metadata": {},
   "outputs": [
    {
     "data": {
      "text/plain": [
       "[<matplotlib.lines.Line2D at 0x236fdf2e250>]"
      ]
     },
     "execution_count": 342,
     "metadata": {},
     "output_type": "execute_result"
    },
    {
     "data": {
      "image/png": "[encoded data removed]",
      "text/plain": [
       "<Figure size 432x288 with 1 Axes>"
      ]
     },
     "metadata": {
      "needs_background": "light"
     },
     "output_type": "display_data"
    }
   ],
   "source": [
    "\n",
    "model_quad.conf_int(0.05) # \n",
    "plt.scatter(DeliveryTime.deliverytime,DeliveryTime.sortingtime,c=\"b\");plt.plot(DeliveryTime.deliverytime,\"r\")"
   ]
  },
  {
   "cell_type": "code",
   "execution_count": 343,
   "id": "f24b68ff",
   "metadata": {},
   "outputs": [
    {
     "data": {
      "text/plain": [
       "(array([1., 0., 2., 3., 1., 8., 3., 1., 1., 1.]),\n",
       " array([-2.2945037 , -1.85428624, -1.41406878, -0.97385132, -0.53363387,\n",
       "        -0.09341641,  0.34680105,  0.78701851,  1.22723596,  1.66745342,\n",
       "         2.10767088]),\n",
       " <BarContainer object of 10 artists>)"
      ]
     },
     "execution_count": 343,
     "metadata": {},
     "output_type": "execute_result"
    },
    {
     "data": {
      "image/png": "[encoded data removed]",
      "text/plain": [
       "<Figure size 432x288 with 1 Axes>"
      ]
     },
     "metadata": {
      "needs_background": "light"
     },
     "output_type": "display_data"
    }
   ],
   "source": [
    "\n",
    "plt.scatter(np.arange(21),model_quad.resid_pearson);\n",
    "plt.axhline(y=0,color='red');\n",
    "plt.xlabel(\"Observation Number\");plt.ylabel(\"Standardized Residual\")\n",
    "\n",
    "plt.hist(model_quad.resid_pearson) # histogram for residual values "
   ]
  },
  {
   "cell_type": "code",
   "execution_count": 344,
   "id": "fbc667df",
   "metadata": {},
   "outputs": [
    {
     "data": {
      "text/plain": [
       "-0.7566733660351286"
      ]
     },
     "execution_count": 344,
     "metadata": {},
     "output_type": "execute_result"
    },
    {
     "data": {
      "image/png": "[encoded data removed]",
      "text/plain": [
       "<Figure size 432x288 with 1 Axes>"
      ]
     },
     "metadata": {
      "needs_background": "light"
     },
     "output_type": "display_data"
    }
   ],
   "source": [
    "####### Implementing the Linear Regression model from sklearn library\n",
    "\n",
    "plt.scatter(DeliveryTime.deliverytime,DeliveryTime.sortingtime)\n",
    "model1 = LinearRegression()\n",
    "model1.fit(DeliveryTime.deliverytime.values.reshape(-1,1),DeliveryTime.sortingtime)\n",
    "pred1 = model1.predict(DeliveryTime.deliverytime.values.reshape(-1,1))\n",
    "\n",
    "# Adjusted R-Squared value\n",
    "model1.score(DeliveryTime.deliverytime.values.reshape(-1,1),DeliveryTime.sortingtime)# \n",
    "rmse1 = np.sqrt(np.mean((pred1-DeliveryTime.sortingtime)**2)) #\n",
    "model1.coef_\n",
    "model1.intercept_"
   ]
  },
  {
   "cell_type": "code",
   "execution_count": 345,
   "id": "26116cdc",
   "metadata": {},
   "outputs": [
    {
     "data": {
      "text/plain": [
       "<matplotlib.collections.LineCollection at 0x236fe027b20>"
      ]
     },
     "execution_count": 345,
     "metadata": {},
     "output_type": "execute_result"
    },
    {
     "data": {
      "image/png": "[encoded data removed]",
      "text/plain": [
       "<Figure size 432x288 with 1 Axes>"
      ]
     },
     "metadata": {
      "needs_background": "light"
     },
     "output_type": "display_data"
    }
   ],
   "source": [
    "#### Residuals Vs Fitted values\n",
    "\n",
    "plt.scatter(pred1,(pred1-DeliveryTime.sortingtime),c=\"r\")\n",
    "plt.hlines(y=0,xmin=0,xmax=30) "
   ]
  },
  {
   "cell_type": "code",
   "execution_count": 346,
   "id": "27d962c3",
   "metadata": {},
   "outputs": [
    {
     "data": {
      "text/plain": [
       "(array([1., 1., 1., 2., 5., 3., 3., 4., 0., 1.]),\n",
       " array([-3.35066242, -2.70171472, -2.05276701, -1.40381931, -0.7548716 ,\n",
       "        -0.10592389,  0.54302381,  1.19197152,  1.84091922,  2.48986693,\n",
       "         3.13881464]),\n",
       " <BarContainer object of 10 artists>)"
      ]
     },
     "execution_count": 346,
     "metadata": {},
     "output_type": "execute_result"
    },
    {
     "data": {
      "image/png": "[encoded data removed]",
      "text/plain": [
       "<Figure size 432x288 with 1 Axes>"
      ]
     },
     "metadata": {
      "needs_background": "light"
     },
     "output_type": "display_data"
    }
   ],
   "source": [
    "# checking normal distribution for residual\n",
    "plt.hist(pred1-DeliveryTime.sortingtime)"
   ]
  },
  {
   "cell_type": "code",
   "execution_count": 327,
   "id": "f69e9ea0",
   "metadata": {},
   "outputs": [],
   "source": [
    "### Fitting Quadratic Regression \n",
    "# (SQRT)\n",
    "DeliveryTime[\"deliverytime_sqrd\"] = DeliveryTime.deliverytime*DeliveryTime.deliverytime\n",
    "model2 = LinearRegression()\n",
    "model2.fit(X = DeliveryTime.iloc[:,[0,2]],y=DeliveryTime.sortingtime)\n",
    "pred2 = model2.predict(DeliveryTime.iloc[:,[0,2]])"
   ]
  },
  {
   "cell_type": "code",
   "execution_count": 328,
   "id": "e83117b8",
   "metadata": {},
   "outputs": [
    {
     "data": {
      "text/plain": [
       "-4.640095582578904"
      ]
     },
     "execution_count": 328,
     "metadata": {},
     "output_type": "execute_result"
    }
   ],
   "source": [
    "# Adjusted R-Squared value\n",
    "model2.score(DeliveryTime.iloc[:,[0,2]],DeliveryTime.sortingtime)# \n",
    "rmse2 = np.sqrt(np.mean((pred2-DeliveryTime.sortingtime)**2)) # \n",
    "model2.coef_\n",
    "model2.intercept_"
   ]
  },
  {
   "cell_type": "code",
   "execution_count": 329,
   "id": "bba5570d",
   "metadata": {},
   "outputs": [
    {
     "data": {
      "text/plain": [
       "<matplotlib.collections.LineCollection at 0x236fdca5490>"
      ]
     },
     "execution_count": 329,
     "metadata": {},
     "output_type": "execute_result"
    },
    {
     "data": {
      "image/png": "[encoded data removed]",
      "text/plain": [
       "<Figure size 432x288 with 1 Axes>"
      ]
     },
     "metadata": {
      "needs_background": "light"
     },
     "output_type": "display_data"
    }
   ],
   "source": [
    "#### Residuals Vs Fitted values\n",
    "\n",
    "plt.scatter(pred2,(pred2-DeliveryTime.sortingtime),c=\"r\")\n",
    "plt.hlines(y=0,xmin=0,xmax=20)  "
   ]
  },
  {
   "cell_type": "code",
   "execution_count": 330,
   "id": "fe7678ea",
   "metadata": {},
   "outputs": [
    {
     "data": {
      "text/plain": [
       "((array([-1.84569542, -1.41352783, -1.14765351, -0.94487504, -0.77501005,\n",
       "         -0.62504005, -0.48799157, -0.35957249, -0.23684388, -0.11759451,\n",
       "          0.        ,  0.11759451,  0.23684388,  0.35957249,  0.48799157,\n",
       "          0.62504005,  0.77501005,  0.94487504,  1.14765351,  1.41352783,\n",
       "          1.84569542]),\n",
       "  array([-3.00823901, -1.88216022, -1.67337684, -0.92631588, -0.60559149,\n",
       "         -0.52332718, -0.37778585, -0.36071024, -0.27634935, -0.18794554,\n",
       "         -0.13113929, -0.0421346 , -0.03669472,  0.07632571,  0.42135928,\n",
       "          0.83725561,  0.94312634,  1.14094322,  1.64252516,  1.69533292,\n",
       "          3.27490198])),\n",
       " (1.386905695609855, -1.4120728161620891e-15, 0.9740418427229265))"
      ]
     },
     "execution_count": 330,
     "metadata": {},
     "output_type": "execute_result"
    },
    {
     "data": {
      "image/png": "[encoded data removed]",
      "text/plain": [
       "<Figure size 432x288 with 1 Axes>"
      ]
     },
     "metadata": {
      "needs_background": "light"
     },
     "output_type": "display_data"
    }
   ],
   "source": [
    "# Checking normal distribution\n",
    "plt.hist(pred2-DeliveryTime.sortingtime)\n",
    "\n",
    "st.probplot(pred2-DeliveryTime.sortingtime,dist=\"norm\",plot=pylab)"
   ]
  },
  {
   "cell_type": "code",
   "execution_count": 331,
   "id": "c0bb2849",
   "metadata": {},
   "outputs": [],
   "source": [
    "# Let us prepare a model by applying transformation on dependent variable\n",
    "DeliveryTime[\"sortingtime_sqrt\"] = np.sqrt(DeliveryTime.sortingtime)\n",
    "\n",
    "model3 = LinearRegression()\n",
    "model3.fit(X = DeliveryTime.iloc[:,[0,2]],y=DeliveryTime.sortingtime_sqrt)\n",
    "pred3 = model3.predict(DeliveryTime.iloc[:,[0,2]])"
   ]
  },
  {
   "cell_type": "code",
   "execution_count": 332,
   "id": "922f6c4f",
   "metadata": {},
   "outputs": [
    {
     "data": {
      "text/plain": [
       "-0.1392288379030604"
      ]
     },
     "execution_count": 332,
     "metadata": {},
     "output_type": "execute_result"
    }
   ],
   "source": [
    "# Adjusted R-Squared value\n",
    "model3.score(DeliveryTime.iloc[:,[0,2]],DeliveryTime.sortingtime_sqrt)# \n",
    "rmse3 = np.sqrt(np.mean(((pred3)**2-DeliveryTime.sortingtime)**2)) # \n",
    "model3.coef_\n",
    "model3.intercept_"
   ]
  },
  {
   "cell_type": "code",
   "execution_count": 333,
   "id": "ec36995f",
   "metadata": {},
   "outputs": [
    {
     "data": {
      "text/plain": [
       "<matplotlib.collections.LineCollection at 0x236fdd692e0>"
      ]
     },
     "execution_count": 333,
     "metadata": {},
     "output_type": "execute_result"
    },
    {
     "data": {
      "image/png": "[encoded data removed]",
      "text/plain": [
       "<Figure size 432x288 with 1 Axes>"
      ]
     },
     "metadata": {
      "needs_background": "light"
     },
     "output_type": "display_data"
    }
   ],
   "source": [
    "#### Residuals Vs Fitted values\n",
    "\n",
    "plt.scatter((pred3)**2,((pred3)**2-DeliveryTime.sortingtime),c=\"r\")\n",
    "plt.hlines(y=0,xmin=0,xmax=20)  "
   ]
  },
  {
   "cell_type": "code",
   "execution_count": 334,
   "id": "532c9e74",
   "metadata": {},
   "outputs": [
    {
     "data": {
      "text/plain": [
       "((array([-1.84569542, -1.41352783, -1.14765351, -0.94487504, -0.77501005,\n",
       "         -0.62504005, -0.48799157, -0.35957249, -0.23684388, -0.11759451,\n",
       "          0.        ,  0.11759451,  0.23684388,  0.35957249,  0.48799157,\n",
       "          0.62504005,  0.77501005,  0.94487504,  1.14765351,  1.41352783,\n",
       "          1.84569542]),\n",
       "  array([-3.09757539, -1.85078985, -1.72618228, -1.13153871, -0.68996514,\n",
       "         -0.66287612, -0.40044779, -0.31853878, -0.31433374, -0.2850865 ,\n",
       "         -0.12903228, -0.03055362, -0.00397624,  0.02421913,  0.37912592,\n",
       "          0.6965875 ,  0.73870978,  0.97216019,  1.44861991,  1.68350897,\n",
       "          3.31980117])),\n",
       " (1.38422662352949, -0.06562684984688795, 0.9725481989461069))"
      ]
     },
     "execution_count": 334,
     "metadata": {},
     "output_type": "execute_result"
    },
    {
     "data": {
      "image/png": "[encoded data removed]",
      "text/plain": [
       "<Figure size 432x288 with 1 Axes>"
      ]
     },
     "metadata": {
      "needs_background": "light"
     },
     "output_type": "display_data"
    }
   ],
   "source": [
    "# checking normal distribution for residuals \n",
    "plt.hist((pred3)**2-DeliveryTime.sortingtime)\n",
    "st.probplot((pred3)**2-DeliveryTime.sortingtime,dist=\"norm\",plot=pylab)"
   ]
  },
  {
   "cell_type": "code",
   "execution_count": 335,
   "id": "d5c0b319",
   "metadata": {},
   "outputs": [],
   "source": [
    "# Let us prepare a model by applying transformation on dependent variable without transformation on input variables \n",
    "model4 = LinearRegression()\n",
    "model4.fit(X = DeliveryTime.deliverytime.values.reshape(-1,1),y=DeliveryTime.sortingtime_sqrt)\n",
    "pred4 = model4.predict(DeliveryTime.deliverytime.values.reshape(-1,1))"
   ]
  },
  {
   "cell_type": "code",
   "execution_count": 336,
   "id": "9a20cc98",
   "metadata": {},
   "outputs": [
    {
     "data": {
      "text/plain": [
       "0.9609339829284425"
      ]
     },
     "execution_count": 336,
     "metadata": {},
     "output_type": "execute_result"
    }
   ],
   "source": [
    "# Adjusted R-Squared value\n",
    "model4.score(DeliveryTime.deliverytime.values.reshape(-1,1),DeliveryTime.sortingtime_sqrt)# \n",
    "rmse4 = np.sqrt(np.mean(((pred4)**2-DeliveryTime.sortingtime)**2)) # \n",
    "model4.coef_\n",
    "model4.intercept_"
   ]
  },
  {
   "cell_type": "code",
   "execution_count": 337,
   "id": "ee932de2",
   "metadata": {},
   "outputs": [
    {
     "data": {
      "text/plain": [
       "(array([1., 0., 2., 2., 5., 3., 4., 2., 1., 1.]),\n",
       " array([-3.59789074, -2.92821351, -2.25853629, -1.58885907, -0.91918185,\n",
       "        -0.24950462,  0.4201726 ,  1.08984982,  1.75952704,  2.42920427,\n",
       "         3.09888149]),\n",
       " <BarContainer object of 10 artists>)"
      ]
     },
     "execution_count": 337,
     "metadata": {},
     "output_type": "execute_result"
    },
    {
     "data": {
      "image/png": "[encoded data removed]",
      "text/plain": [
       "<Figure size 432x288 with 1 Axes>"
      ]
     },
     "metadata": {
      "needs_background": "light"
     },
     "output_type": "display_data"
    }
   ],
   "source": [
    "#### Residuals Vs Fitted values\n",
    "\n",
    "plt.scatter((pred4)**2,((pred4)**2-DeliveryTime.sortingtime),c=\"r\")\n",
    "plt.hlines(y=0,xmin=0,xmax=20)  \n",
    "\n",
    "st.probplot((pred4)**2-DeliveryTime.sortingtime,dist=\"norm\",plot=pylab)\n",
    "\n",
    "# Checking normal distribution for residuals \n",
    "plt.hist((pred4)**2-DeliveryTime.sortingtime)\n"
   ]
  },
  {
   "cell_type": "code",
   "execution_count": 338,
   "id": "b3621536",
   "metadata": {},
   "outputs": [
    {
     "data": {
      "text/plain": [
       "0    6\n",
       "1    8\n",
       "dtype: int64"
      ]
     },
     "execution_count": 338,
     "metadata": {},
     "output_type": "execute_result"
    }
   ],
   "source": [
    "# Prediction\n",
    "# Predicted values of Salary using the model\n",
    "\n",
    "new_data=pd.Series([6,8])\n",
    "new_data"
   ]
  },
  {
   "cell_type": "code",
   "execution_count": 339,
   "id": "0cec7fe3",
   "metadata": {},
   "outputs": [
    {
     "data": {
      "text/html": [
       "<div>\n",
       "<style scoped>\n",
       "    .dataframe tbody tr th:only-of-type {\n",
       "        vertical-align: middle;\n",
       "    }\n",
       "\n",
       "    .dataframe tbody tr th {\n",
       "        vertical-align: top;\n",
       "    }\n",
       "\n",
       "    .dataframe thead th {\n",
       "        text-align: right;\n",
       "    }\n",
       "</style>\n",
       "<table border=\"1\" class=\"dataframe\">\n",
       "  <thead>\n",
       "    <tr style=\"text-align: right;\">\n",
       "      <th></th>\n",
       "      <th>sorting_time</th>\n",
       "    </tr>\n",
       "  </thead>\n",
       "  <tbody>\n",
       "    <tr>\n",
       "      <th>0</th>\n",
       "      <td>6</td>\n",
       "    </tr>\n",
       "    <tr>\n",
       "      <th>1</th>\n",
       "      <td>8</td>\n",
       "    </tr>\n",
       "  </tbody>\n",
       "</table>\n",
       "</div>"
      ],
      "text/plain": [
       "   sorting_time\n",
       "0             6\n",
       "1             8"
      ]
     },
     "execution_count": 339,
     "metadata": {},
     "output_type": "execute_result"
    }
   ],
   "source": [
    "data_pred=pd.DataFrame(new_data,columns=['sorting_time'])\n",
    "data_pred"
   ]
  },
  {
   "cell_type": "code",
   "execution_count": 340,
   "id": "fb087f16",
   "metadata": {},
   "outputs": [
    {
     "name": "stderr",
     "output_type": "stream",
     "text": [
      "C:\\Users\\Shunottara\\anaconda3\\lib\\site-packages\\sklearn\\base.py:443: UserWarning: X has feature names, but LinearRegression was fitted without feature names\n",
      "  warnings.warn(\n"
     ]
    },
    {
     "data": {
      "text/plain": [
       "array([1.7257884 , 2.55327566])"
      ]
     },
     "execution_count": 340,
     "metadata": {},
     "output_type": "execute_result"
    }
   ],
   "source": [
    "model1.predict(data_pred)"
   ]
  }
 ],
 "metadata": {
  "kernelspec": {
   "display_name": "Python 3 (ipykernel)",
   "language": "python",
   "name": "python3"
  },
  "language_info": {
   "codemirror_mode": {
    "name": "ipython",
    "version": 3
   },
   "file_extension": ".py",
   "mimetype": "text/x-python",
   "name": "python",
   "nbconvert_exporter": "python",
   "pygments_lexer": "ipython3",
   "version": "3.9.12"
  }
 },
 "nbformat": 4,
 "nbformat_minor": 5
}
